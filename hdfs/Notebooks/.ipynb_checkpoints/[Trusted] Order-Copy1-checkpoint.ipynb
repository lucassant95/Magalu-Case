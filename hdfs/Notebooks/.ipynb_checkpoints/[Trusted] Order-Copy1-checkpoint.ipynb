{
 "cells": [
  {
   "cell_type": "code",
   "execution_count": 1,
   "metadata": {},
   "outputs": [],
   "source": [
    "from pyspark.sql import SparkSession\n",
    "import os\n",
    "from utils import encrypt"
   ]
  },
  {
   "cell_type": "code",
   "execution_count": 2,
   "metadata": {},
   "outputs": [],
   "source": [
    "spark = SparkSession.builder.appName('trusted_order') \\\n",
    "        .master(\"local[*]\") \\\n",
    "        .config(\"spark.sql.streaming.schemaInference\", True) \\\n",
    "        .config(\"spark.sql.warehouse.dir\", '/opt/workspace/') \\\n",
    "        .config(\"spark.sql.sources.partitionOverwriteMode\", 'dynamic') \\\n",
    "        .enableHiveSupport() \\\n",
    "        .getOrCreate()"
   ]
  },
  {
   "cell_type": "code",
   "execution_count": 3,
   "metadata": {},
   "outputs": [
    {
     "data": {
      "text/plain": [
       "<function utils.encrypt(string)>"
      ]
     },
     "execution_count": 3,
     "metadata": {},
     "output_type": "execute_result"
    }
   ],
   "source": [
    "spark.udf.register(\"encrypt\", encrypt)"
   ]
  },
  {
   "cell_type": "code",
   "execution_count": 79,
   "metadata": {},
   "outputs": [],
   "source": [
    "def validate(df):\n",
    "    total_count = df.select('order_id').count()\n",
    "    distinct_count = df.select('order_id').drop_duplicates().count()\n",
    "\n",
    "    if total_count != distinct_count: raise ValueError('Some order IDs are not unique!')\n",
    "    print('Valid df')"
   ]
  },
  {
   "cell_type": "code",
   "execution_count": 82,
   "metadata": {},
   "outputs": [
    {
     "name": "stdout",
     "output_type": "stream",
     "text": [
      "2435488\n",
      "2435488\n",
      "Valid df\n"
     ]
    }
   ],
   "source": [
    "trusted_order_query = spark.sql(\"\"\"\n",
    "\n",
    "with last_order_status_event_timestamp as (select max(to_timestamp(created_at)) as last_event_date, order_id from raw.status group by 2),\n",
    "\n",
    "last_order_status as (\n",
    "    select \n",
    "        min(s.created_at) as event_date\n",
    "        , s.order_id\n",
    "        , s.value\n",
    "    from raw.status s \n",
    "        join last_order_status_event_timestamp loset on loset.last_event_date = s.created_at\n",
    "            and loset.order_id = s.order_id\n",
    "    group by 2,3),\n",
    "\n",
    "hashed_costumer_data as (\n",
    "    select \n",
    "        encrypt(c.customer_name) as hashed_customer_name\n",
    "        , encrypt(c.customer_phone_number) as hashed_customer_phone_number\n",
    "        , c.customer_phone_area\n",
    "        , c.active as customer_current_state\n",
    "        , c.created_at as customer_created_at\n",
    "        , c.customer_id\n",
    "        , c.language as customer_language\n",
    "    from raw.consumer c\n",
    "),\n",
    "\n",
    "hashed_customer_cpf as (\n",
    "    select\n",
    "        encrypt(first(cpf)) as hashed_customer_cpf\n",
    "        , customer_id\n",
    "    from raw.order\n",
    "    group by 2\n",
    "),\n",
    "\n",
    "deduplicated_raw_order as (\n",
    "    select\n",
    "        first(o.cpf) as cpf\n",
    "        , min(o.order_created_at) as order_created_at\n",
    "        , from_utc_timestamp(to_timestamp(min(order_created_at)), merchant_timezone) as local_order_timestamp\n",
    "        , delivery_address_city\n",
    "        , o.delivery_address_country\n",
    "        , o.delivery_address_district\n",
    "        , o.delivery_address_external_id\n",
    "        , o.delivery_address_latitude\n",
    "        , o.delivery_address_longitude\n",
    "        , o.delivery_address_state\n",
    "        , o.delivery_address_zip_code\n",
    "        , o.merchant_latitude\n",
    "        , o.merchant_longitude\n",
    "        , o.merchant_timezone\n",
    "        , o.order_id\n",
    "        , o.order_scheduled\n",
    "        , o.order_scheduled_date\n",
    "        , o.order_total_amount\n",
    "        , o.origin_platform\n",
    "        , o.customer_id\n",
    "        , o.merchant_id\n",
    "    from raw.order o \n",
    "    group by 4,5,6,7,8,9,10,11,12,13,14,15,16,17,18,19,20,21\n",
    ")\n",
    "select\n",
    "\n",
    "    dro.*\n",
    "    , hcpf.hashed_customer_cpf\n",
    "    , hc.hashed_customer_phone_number\n",
    "    , hc.customer_phone_area\n",
    "    , hc.customer_current_state\n",
    "    , hc.customer_created_at\n",
    "    , hc.customer_language\n",
    "    , hc.hashed_customer_name\n",
    "    , r.created_at as merchant_created_at\n",
    "    , r.enabled as merchant_current_state\n",
    "    , r.price_range as merchant_price_range\n",
    "    , r.average_ticket merchant_average_ticket\n",
    "    , r.takeout_time as merchant_takeout_time\n",
    "    , r.delivery_time as merchant_delivery_time\n",
    "    , r.minimum_order_value as merchant_minimum_order_value\n",
    "    , r.merchant_zip_code\n",
    "    , r.merchant_city\n",
    "    , r.merchant_state\n",
    "    , r.merchant_country\n",
    "    , coalesce(los.value, 'unknwon') as order_last_state\n",
    "    , to_date(from_utc_timestamp(to_timestamp(dro.local_order_timestamp), merchant_timezone)) as local_merchant_date_partition\n",
    "from deduplicated_raw_order dro\n",
    "    join hashed_costumer_data hc on hc.customer_id = dro.customer_id\n",
    "    join hashed_customer_cpf hcpf on hcpf.customer_id = dro.customer_id\n",
    "    join raw.restaurant r on r.id = dro.merchant_id\n",
    "    left join last_order_status los on los.order_id = dro.order_id\n",
    "\"\"\")\n",
    "\n",
    "validate(trusted_order_query)\n",
    "\n",
    "trusted_order_query.write.partitionBy('local_merchant_date_partition').format('parquet').mode('overwrite').saveAsTable('trusted.orders')"
   ]
  },
  {
   "cell_type": "code",
   "execution_count": null,
   "metadata": {},
   "outputs": [],
   "source": [
    "spark.stop()"
   ]
  }
 ],
 "metadata": {
  "kernelspec": {
   "display_name": "Python 3",
   "language": "python",
   "name": "python3"
  },
  "language_info": {
   "codemirror_mode": {
    "name": "ipython",
    "version": 3
   },
   "file_extension": ".py",
   "mimetype": "text/x-python",
   "name": "python",
   "nbconvert_exporter": "python",
   "pygments_lexer": "ipython3",
   "version": "3.8.5"
  }
 },
 "nbformat": 4,
 "nbformat_minor": 4
}

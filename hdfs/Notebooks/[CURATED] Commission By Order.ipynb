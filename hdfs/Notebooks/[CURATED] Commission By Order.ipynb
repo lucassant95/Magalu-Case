{
 "cells": [
  {
   "cell_type": "code",
   "execution_count": 1,
   "metadata": {},
   "outputs": [],
   "source": [
    "# Libs import\n",
    "from pyspark.sql import SparkSession\n",
    "from pyspark.sql import SQLContext\n",
    "import pyspark\n",
    "from pyspark.sql.utils import AnalysisException\n",
    "import os\n",
    "import sys\n",
    "from pathlib import Path\n",
    "sys.path.append('/opt/workspace/')"
   ]
  },
  {
   "cell_type": "code",
   "execution_count": 2,
   "metadata": {},
   "outputs": [],
   "source": [
    "# Changing working directory to root to use custom libs\n",
    "os.chdir('/opt/workspace/')\n",
    "\n",
    "#Spark Configurations\n",
    "    # Sets Session to use spark master container\n",
    "    # Sets Session to use warehouse directory in /opt/workspace/Warehouse and to infer data Schema\n",
    "    # Sets overide mode to dynamic, so we can append data and overwrite old data based on partition\n",
    "spark = SparkSession.builder.appName('[CURATED] Commission By Order') \\\n",
    "        .master(\"spark://spark-master:7077\") \\\n",
    "        .config(\"spark.sql.streaming.schemaInference\", True) \\\n",
    "        .config(\"spark.sql.warehouse.dir\", '/opt/workspace/Warehouse') \\\n",
    "        .enableHiveSupport() \\\n",
    "        .config(\"spark.sql.sources.partitionOverwriteMode\", 'dynamic') \\\n",
    "        .getOrCreate()\n"
   ]
  },
  {
   "cell_type": "code",
   "execution_count": 5,
   "metadata": {},
   "outputs": [],
   "source": [
    "df = spark.sql(\n",
    "    \"\"\"\n",
    "    select \n",
    "        o.id_pedido,\n",
    "        o.order_partner_value * 6 * 0.01 as order_commission,\n",
    "        o.id_parceiro,\n",
    "        o.partition\n",
    "    from curated.normalized_orders o\n",
    "        join raw.categoria c on c.id_categoria = o.categoria\n",
    "\"\"\")\n",
    "\n",
    "df.write.partitionBy('partition').format('parquet').mode('overwrite').saveAsTable('curated.orders_commission')"
   ]
  },
  {
   "cell_type": "code",
   "execution_count": 6,
   "metadata": {},
   "outputs": [
    {
     "name": "stdout",
     "output_type": "stream",
     "text": [
      "+---------+------------------+-----------+----------+\n",
      "|id_pedido|   order_comission|id_parceiro| partition|\n",
      "+---------+------------------+-----------+----------+\n",
      "|481550820|               3.9|         16|2021-07-06|\n",
      "|482017030|             13.98|         13|2021-07-06|\n",
      "|481664475|               3.9|         16|2021-07-06|\n",
      "|481603427|              9.36|         16|2021-07-06|\n",
      "|482079090|               3.9|         16|2021-07-06|\n",
      "|481701312|              78.0|          6|2021-07-06|\n",
      "|481587995|             16.38|         13|2021-07-06|\n",
      "|481825035|               4.2|         16|2021-07-06|\n",
      "|481757630|               6.9|          6|2021-07-06|\n",
      "|481921600|               4.2|         16|2021-07-06|\n",
      "|481666762|350.28000000000003|         13|2021-07-06|\n",
      "|481998565|               8.1|         16|2021-07-06|\n",
      "|482092212|              5.82|         16|2021-07-06|\n",
      "|482049545|              9.66|         16|2021-07-06|\n",
      "|482085090|               4.2|         16|2021-07-06|\n",
      "|481517390|              4.38|         16|2021-07-06|\n",
      "|481920090|              3.66|         16|2021-07-06|\n",
      "|481723805|              4.38|         16|2021-07-06|\n",
      "|481937522|              9.96|         16|2021-07-06|\n",
      "|482082222|              4.62|         16|2021-07-06|\n",
      "+---------+------------------+-----------+----------+\n",
      "only showing top 20 rows\n",
      "\n"
     ]
    }
   ],
   "source": [
    "spark.sql('select * from curated.orders_commission').show()"
   ]
  },
  {
   "cell_type": "code",
   "execution_count": 7,
   "metadata": {},
   "outputs": [],
   "source": [
    "# Stops spark client and finishes the job\n",
    "spark.stop()"
   ]
  }
 ],
 "metadata": {
  "kernelspec": {
   "display_name": "Python 3",
   "language": "python",
   "name": "python3"
  },
  "language_info": {
   "codemirror_mode": {
    "name": "ipython",
    "version": 3
   },
   "file_extension": ".py",
   "mimetype": "text/x-python",
   "name": "python",
   "nbconvert_exporter": "python",
   "pygments_lexer": "ipython3",
   "version": "3.8.6"
  }
 },
 "nbformat": 4,
 "nbformat_minor": 4
}

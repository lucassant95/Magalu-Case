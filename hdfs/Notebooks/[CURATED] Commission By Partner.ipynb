{
 "cells": [
  {
   "cell_type": "code",
   "execution_count": 1,
   "metadata": {},
   "outputs": [],
   "source": [
    "# Libs import\n",
    "from pyspark.sql import SparkSession\n",
    "from pyspark.sql import SQLContext\n",
    "import pyspark\n",
    "from pyspark.sql.utils import AnalysisException\n",
    "import os\n",
    "import sys\n",
    "from pathlib import Path\n",
    "sys.path.append('/opt/workspace/')"
   ]
  },
  {
   "cell_type": "code",
   "execution_count": 2,
   "metadata": {},
   "outputs": [],
   "source": [
    "# Changing working directory to root to use custom libraries\n",
    "os.chdir('/opt/workspace/')\n",
    "\n",
    "#Spark Configurations\n",
    "    # Sets Session to use spark master container\n",
    "    # Sets Session to use warehouse directory in /opt/workspace/Warehouse and to infer data Schema\n",
    "    # Sets overide mode to dynamic, so we can append data and overwrite old data based on partition\n",
    "spark = SparkSession.builder.appName('[Curated] Commission By Partner') \\\n",
    "        .master(\"spark://spark-master:7077\") \\\n",
    "        .config(\"spark.sql.streaming.schemaInference\", True) \\\n",
    "        .config(\"spark.sql.warehouse.dir\", '/opt/workspace/') \\\n",
    "        .enableHiveSupport() \\\n",
    "        .config(\"spark.sql.sources.partitionOverwriteMode\", 'dynamic') \\\n",
    "        .getOrCreate()\n"
   ]
  },
  {
   "cell_type": "code",
   "execution_count": 5,
   "metadata": {},
   "outputs": [],
   "source": [
    "df = spark.sql(\n",
    "    \"\"\"\n",
    "    with base as (\n",
    "    select \n",
    "        o.id_parceiro,\n",
    "        date_format(o.partition, 'y-M') as commission_month_reference,\n",
    "        round(sum(o.order_commission),2) as partner_commission_without_bonus,\n",
    "        floor(sum(o.order_commission)/10000) * 100 as partner_bonus\n",
    "    from curated.orders_commission o\n",
    "    group by o.id_parceiro, o.partition\n",
    "    )\n",
    "    select *, partner_commission_without_bonus - partner_bonus as partner_commission_with_bonus  from base\n",
    "\"\"\")\n",
    "\n",
    "df.write.partitionBy('commission_month_reference').format('parquet').mode('overwrite').saveAsTable('curated.partners_commissions_by_month')"
   ]
  },
  {
   "cell_type": "code",
   "execution_count": 6,
   "metadata": {},
   "outputs": [
    {
     "name": "stdout",
     "output_type": "stream",
     "text": [
      "+-----------+-------------------------------+-------------+----------------------------+-------------------------+\n",
      "|id_parceiro|partner_comission_without_bonus|partner_bonus|partner_comission_with_bonus|comission_month_reference|\n",
      "+-----------+-------------------------------+-------------+----------------------------+-------------------------+\n",
      "|         16|                       27820.14|          200|                    27620.14|                   2021-6|\n",
      "|          5|                        2336.94|            0|                     2336.94|                   2021-6|\n",
      "|          4|                           3.84|            0|                        3.84|                   2021-6|\n",
      "|          4|                           3.84|            0|                        3.84|                   2021-6|\n",
      "|          3|                        1765.38|            0|                     1765.38|                   2021-7|\n",
      "|          3|                         829.32|            0|                      829.32|                   2021-7|\n",
      "|         16|                       32829.54|          300|                    32529.54|                   2021-7|\n",
      "|         16|                       41969.76|          400|                    41569.76|                   2021-7|\n",
      "|         11|                          49.92|            0|                       49.92|                   2021-7|\n",
      "|         11|                           5.46|            0|                        5.46|                   2021-7|\n",
      "|          3|                         1038.9|            0|                      1038.9|                   2021-7|\n",
      "|          8|                           1.86|            0|                        1.86|                   2021-7|\n",
      "|         16|                       48747.66|          400|                    48347.66|                   2021-7|\n",
      "|         16|                       29975.88|          200|                    29775.88|                   2021-7|\n",
      "|          8|                           3.12|            0|                        3.12|                   2021-7|\n",
      "|         13|                       43269.84|          400|                    42869.84|                   2021-6|\n",
      "|          6|                        14158.8|          100|                     14058.8|                   2021-6|\n",
      "|          6|                       12537.96|          100|                    12437.96|                   2021-6|\n",
      "|         13|                       42187.98|          400|                    41787.98|                   2021-6|\n",
      "|         11|                          21.06|            0|                       21.06|                   2021-6|\n",
      "+-----------+-------------------------------+-------------+----------------------------+-------------------------+\n",
      "only showing top 20 rows\n",
      "\n"
     ]
    }
   ],
   "source": [
    "spark.sql('select * from curated.partners_commissions_by_month').show()"
   ]
  },
  {
   "cell_type": "code",
   "execution_count": 7,
   "metadata": {},
   "outputs": [],
   "source": [
    "# Stops spark client and finishes the job\n",
    "spark.stop()"
   ]
  }
 ],
 "metadata": {
  "kernelspec": {
   "display_name": "Python 3",
   "language": "python",
   "name": "python3"
  },
  "language_info": {
   "codemirror_mode": {
    "name": "ipython",
    "version": 3
   },
   "file_extension": ".py",
   "mimetype": "text/x-python",
   "name": "python",
   "nbconvert_exporter": "python",
   "pygments_lexer": "ipython3",
   "version": "3.8.6"
  }
 },
 "nbformat": 4,
 "nbformat_minor": 4
}
